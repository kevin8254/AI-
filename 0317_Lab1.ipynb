{
  "nbformat": 4,
  "nbformat_minor": 0,
  "metadata": {
    "kernelspec": {
      "display_name": "tf2",
      "language": "python",
      "name": "tf2"
    },
    "language_info": {
      "codemirror_mode": {
        "name": "ipython",
        "version": 3
      },
      "file_extension": ".py",
      "mimetype": "text/x-python",
      "name": "python",
      "nbconvert_exporter": "python",
      "pygments_lexer": "ipython3",
      "version": "3.7.7"
    },
    "colab": {
      "name": "0317_Lab1.ipynb",
      "provenance": [],
      "include_colab_link": true
    }
  },
  "cells": [
    {
      "cell_type": "markdown",
      "metadata": {
        "id": "view-in-github",
        "colab_type": "text"
      },
      "source": [
        "<a href=\"https://colab.research.google.com/github/kevin8254/AI-/blob/main/0317_Lab1.ipynb\" target=\"_parent\"><img src=\"https://colab.research.google.com/assets/colab-badge.svg\" alt=\"Open In Colab\"/></a>"
      ]
    },
    {
      "cell_type": "markdown",
      "metadata": {
        "id": "WLXcLYfqDQrY"
      },
      "source": [
        "# TensorFlow 2.0 介紹"
      ]
    },
    {
      "cell_type": "markdown",
      "metadata": {
        "id": "FfInKvslDQrc"
      },
      "source": [
        "<table class=\"tfo-notebook-buttons\" align=\"left\">\n",
        "  <td>\n",
        "    <a target=\"_blank\" href=\"https://colab.research.google.com/github/taipeitechmmslab/MMSLAB-TF2/blob/master/Lab1.ipynb\"><img src=\"https://www.tensorflow.org/images/colab_logo_32px.png\" />Run in Google Colab</a>\n",
        "  </td>\n",
        "  <td>\n",
        "    <a target=\"_blank\" href=\"https://github.com/taipeitechmmslab/MMSLAB-TF2/blob/master/Lab1.ipynb\"><img src=\"https://www.tensorflow.org/images/GitHub-Mark-32px.png\" />View source on GitHub</a>\n",
        "  </td>\n",
        "</table>"
      ]
    },
    {
      "cell_type": "markdown",
      "metadata": {
        "id": "IYApF-U9EGqd"
      },
      "source": [
        "魏毓洲 TensorFlow 2.0 測試"
      ]
    },
    {
      "cell_type": "code",
      "metadata": {
        "id": "GQBWDrYZDQrd"
      },
      "source": [
        "import tensorflow as tf"
      ],
      "execution_count": 18,
      "outputs": []
    },
    {
      "cell_type": "markdown",
      "metadata": {
        "id": "NKqjyNDfDQrd"
      },
      "source": [
        "TensorFlow 的基本型態："
      ]
    },
    {
      "cell_type": "code",
      "metadata": {
        "scrolled": true,
        "id": "GKnS8eq5DQre",
        "colab": {
          "base_uri": "https://localhost:8080/"
        },
        "outputId": "f3066abe-55be-4d52-840d-0f817277e1f4"
      },
      "source": [
        "# 產生一個常數\n",
        "c = tf.constant(1)\n",
        "# 產生一個變數\n",
        "v = tf.Variable(1)\n",
        "print(c)\n",
        "print(v)"
      ],
      "execution_count": 2,
      "outputs": [
        {
          "output_type": "stream",
          "text": [
            "tf.Tensor(1, shape=(), dtype=int32)\n",
            "<tf.Variable 'Variable:0' shape=() dtype=int32, numpy=1>\n"
          ],
          "name": "stdout"
        }
      ]
    },
    {
      "cell_type": "markdown",
      "metadata": {
        "id": "JV70_Wr8DQrf"
      },
      "source": [
        "零階張量稱為標量。"
      ]
    },
    {
      "cell_type": "code",
      "metadata": {
        "id": "tgwsZR2fDQrf",
        "colab": {
          "base_uri": "https://localhost:8080/"
        },
        "outputId": "47961d16-e2c2-439d-d731-71961e777a5b"
      },
      "source": [
        "import tensorflow as tf\n",
        "x = tf.constant(4)\n",
        "print(x)  # 顯示Tensor 常數資訊，Shape=()表示標量，dtype=int32 表示整數\n",
        "print(\"{} 階Tensor\".format(x.ndim))  # 顯示Tensor 的維度"
      ],
      "execution_count": 3,
      "outputs": [
        {
          "output_type": "stream",
          "text": [
            "tf.Tensor(4, shape=(), dtype=int32)\n",
            "0 階Tensor\n"
          ],
          "name": "stdout"
        }
      ]
    },
    {
      "cell_type": "markdown",
      "metadata": {
        "id": "_HyNQPFJDQrf"
      },
      "source": [
        "一階張量稱為向量。"
      ]
    },
    {
      "cell_type": "code",
      "metadata": {
        "id": "w7el-YiIDQrf",
        "colab": {
          "base_uri": "https://localhost:8080/"
        },
        "outputId": "26354606-1482-47c0-cf17-6d43f5cf6319"
      },
      "source": [
        "x = tf.constant([1, 2, 3, 4, 5, 6]) \n",
        "print(\"{}階Tensor \".format(x.ndim))    # 顯示Tensor的維度"
      ],
      "execution_count": 4,
      "outputs": [
        {
          "output_type": "stream",
          "text": [
            "1階Tensor \n"
          ],
          "name": "stdout"
        }
      ]
    },
    {
      "cell_type": "markdown",
      "metadata": {
        "id": "1pudgI2xDQrg"
      },
      "source": [
        "二階張量稱為矩陣。"
      ]
    },
    {
      "cell_type": "code",
      "metadata": {
        "id": "Z8vxgQk7DQrg",
        "colab": {
          "base_uri": "https://localhost:8080/"
        },
        "outputId": "3812832b-94b5-4030-e722-623ce92c1395"
      },
      "source": [
        "x = tf.constant([[1, 2, 3], [4, 5, 6]])\n",
        "print(\"{}階Tensor \".format(x.ndim))    # 顯示Tensor的維度"
      ],
      "execution_count": 5,
      "outputs": [
        {
          "output_type": "stream",
          "text": [
            "2階Tensor \n"
          ],
          "name": "stdout"
        }
      ]
    },
    {
      "cell_type": "markdown",
      "metadata": {
        "id": "O9Wk4tJIDQrg"
      },
      "source": [
        "---\n",
        "## Eager Execution\n",
        "\n",
        "\n",
        "TensorFlow 引入了「Eager Execution」動態圖模式，這個模式在TensorFlow2.0為預設模式，不同與以往的靜態圖模式需要建立計算圖才能執行，Eager Execution模式一旦執行就會返回數值。這使TensorFlow 更容易入門，也使研發更直觀。\n",
        "\n",
        "**Eager Execution 的優點如下：**\n",
        "\n",
        "- 立即返回數值，方便除錯。\n",
        "- 無需 Session.run() 就可以把它們的值返回到 Python。\n",
        "- 為自定義和高階梯度提供強大支援。\n",
        "- 幾乎所有 TensorFlow 運算都適用。\n",
        "\n",
        "\n",
        "**TensorFlow 1.x 和 TensorFlow2.0比較：**\n",
        "```\n",
        "TensorFlow 1.x code:\n",
        ">>> a = tf.constant(1)\n",
        ">>> print(a)\n",
        "Tensor(\"Const_5:0\", shape=(), dtype=int32)\n",
        "\n",
        ">>> sess = tf.Session()\n",
        ">>> print(\"a = {}\".format(sess.run(a)))\n",
        "a = 1\n",
        "\n",
        "\n",
        "TensorFlow 2.0 code:\n",
        ">>> a = tf.constant(1)\n",
        ">>> print(a)\n",
        "tf.Tensor(1, shape=(), dtype=int32)\n",
        "```"
      ]
    },
    {
      "cell_type": "markdown",
      "metadata": {
        "id": "Rt6bLEuGDQrh"
      },
      "source": [
        "**TensorFlow 基本運算：**\n",
        "\n",
        "Import 必要套件"
      ]
    },
    {
      "cell_type": "code",
      "metadata": {
        "id": "6rSTCp_NDQrh",
        "colab": {
          "base_uri": "https://localhost:8080/"
        },
        "outputId": "f11cfad4-285a-4b5e-fe72-3dbf5bf0df53"
      },
      "source": [
        "import numpy as np\n",
        "import tensorflow as tf\n",
        "\n",
        "print(\"Eager Execution 是否啟動: {}\".format(tf.executing_eagerly()))"
      ],
      "execution_count": 54,
      "outputs": [
        {
          "output_type": "stream",
          "text": [
            "Eager Execution 是否啟動: True\n"
          ],
          "name": "stdout"
        }
      ]
    },
    {
      "cell_type": "markdown",
      "metadata": {
        "id": "c2uZELLhDQrh"
      },
      "source": [
        "定義常數 Tensor"
      ]
    },
    {
      "cell_type": "code",
      "metadata": {
        "id": "wYVPVgTLDQrh",
        "colab": {
          "base_uri": "https://localhost:8080/"
        },
        "outputId": "128921df-769b-4e88-a467-d8757aa626a4"
      },
      "source": [
        "a = tf.constant(3)\n",
        "b = tf.constant(4)\n",
        "print(\"a = {}\".format(a))\n",
        "print(\"b = {}\".format(b))"
      ],
      "execution_count": 7,
      "outputs": [
        {
          "output_type": "stream",
          "text": [
            "a = 3\n",
            "b = 4\n"
          ],
          "name": "stdout"
        }
      ]
    },
    {
      "cell_type": "markdown",
      "metadata": {
        "id": "oxG5LftwDQri"
      },
      "source": [
        "檢查資料型態"
      ]
    },
    {
      "cell_type": "code",
      "metadata": {
        "id": "AkbGFQ5iDQri",
        "colab": {
          "base_uri": "https://localhost:8080/"
        },
        "outputId": "f415ec58-bb0c-44de-ea35-398168ab6a4a"
      },
      "source": [
        "print(a)\n",
        "print(b)"
      ],
      "execution_count": 8,
      "outputs": [
        {
          "output_type": "stream",
          "text": [
            "tf.Tensor(3, shape=(), dtype=int32)\n",
            "tf.Tensor(4, shape=(), dtype=int32)\n"
          ],
          "name": "stdout"
        }
      ]
    },
    {
      "cell_type": "markdown",
      "metadata": {
        "id": "tBVFyMBrDQri"
      },
      "source": [
        "基本的運算"
      ]
    },
    {
      "cell_type": "code",
      "metadata": {
        "id": "WBO2pkuODQri",
        "colab": {
          "base_uri": "https://localhost:8080/"
        },
        "outputId": "ca448d60-d4d2-4dc9-a380-deeeed65c3b7"
      },
      "source": [
        "c = a + b\n",
        "print(\"a + b = {}\".format(c))\n",
        "d = a * b\n",
        "print(\"a * b = {}\".format(d))"
      ],
      "execution_count": 9,
      "outputs": [
        {
          "output_type": "stream",
          "text": [
            "a + b = 7\n",
            "a * b = 12\n"
          ],
          "name": "stdout"
        }
      ]
    },
    {
      "cell_type": "markdown",
      "metadata": {
        "id": "EMcYRdg5DQri"
      },
      "source": [
        "2D Tensor 的運算，在Eager Execution模式下可以混和 Tensor 和 Numpy 做運算"
      ]
    },
    {
      "cell_type": "code",
      "metadata": {
        "id": "Zb0JoO2yDQri",
        "colab": {
          "base_uri": "https://localhost:8080/"
        },
        "outputId": "44cc1956-7fdd-4716-b2cb-58e7408112d3"
      },
      "source": [
        "a = tf.constant([[1., 2.], [3., 4.]], dtype=tf.float32)\n",
        "b = np.array([[1., 0.], [2., 3.]], dtype=np.float32)\n",
        "print(\"a constant: {}D Tensor\".format(a.ndim))\n",
        "\n",
        "c = a + b\n",
        "print(\"a + b = \\n{}\".format(c))\n",
        "d = tf.matmul(a, b)\n",
        "print(\"a * b = \\n{}\".format(d))"
      ],
      "execution_count": 11,
      "outputs": [
        {
          "output_type": "stream",
          "text": [
            "a constant: 2D Tensor\n",
            "a + b = \n",
            "[[2. 2.]\n",
            " [5. 7.]]\n",
            "a * b = \n",
            "[[ 5.  6.]\n",
            " [11. 12.]]\n"
          ],
          "name": "stdout"
        }
      ]
    },
    {
      "cell_type": "markdown",
      "metadata": {
        "id": "8NFB4NloDQrj"
      },
      "source": [
        "輸出的結果為 Tensor 格式，我們可以將它轉為 Numpy 格式"
      ]
    },
    {
      "cell_type": "code",
      "metadata": {
        "id": "M7W0nDEyDQrj",
        "colab": {
          "base_uri": "https://localhost:8080/"
        },
        "outputId": "a10890f9-55c2-4c43-994e-baedb63e07c0"
      },
      "source": [
        "print(c)\n",
        "print(\"NumpyArray:\\n {}\".format(c.numpy()))"
      ],
      "execution_count": 12,
      "outputs": [
        {
          "output_type": "stream",
          "text": [
            "tf.Tensor(\n",
            "[[2. 2.]\n",
            " [5. 7.]], shape=(2, 2), dtype=float32)\n",
            "NumpyArray:\n",
            " [[2. 2.]\n",
            " [5. 7.]]\n"
          ],
          "name": "stdout"
        }
      ]
    },
    {
      "cell_type": "markdown",
      "metadata": {
        "id": "WnC-c22FDQrj"
      },
      "source": [
        "計算梯度"
      ]
    },
    {
      "cell_type": "code",
      "metadata": {
        "id": "dIhWSMzeDQrj",
        "colab": {
          "base_uri": "https://localhost:8080/"
        },
        "outputId": "32b54801-42bc-40a7-a8a7-f350252b50fa"
      },
      "source": [
        "w = tf.Variable([[1.0]])\n",
        "with tf.GradientTape() as tape:\n",
        "    loss = w * w\n",
        "\n",
        "grad = tape.gradient(loss, w)\n",
        "print(grad)"
      ],
      "execution_count": 53,
      "outputs": [
        {
          "output_type": "stream",
          "text": [
            "tf.Tensor([[2.]], shape=(1, 1), dtype=float32)\n"
          ],
          "name": "stdout"
        }
      ]
    },
    {
      "cell_type": "markdown",
      "metadata": {
        "id": "Ivdtbl29DQrj"
      },
      "source": [
        "---\n",
        "## Keras\n",
        "\n",
        "TensorFlow2.0將Keras納為內建高階API，因此不必再而外安裝keras套件，直接透過`tf.keras`指令使用。相較於`tf.keras`和`keras`的差別，`tf.keras`更能全面支援tensorflow的指令與模式，例如支援Eager Exection, tf.data, TPU訓練等等。\n",
        "\n",
        "下面將會介紹兩種最常使用的網路搭建方法：\n",
        "- Sequential Model (序列模型)\n",
        "- Function API (函數式模型)"
      ]
    },
    {
      "cell_type": "markdown",
      "metadata": {
        "id": "5XSU8iI1DQrk"
      },
      "source": [
        "### Import 必要套件"
      ]
    },
    {
      "cell_type": "code",
      "metadata": {
        "id": "apa37sdXDQrk"
      },
      "source": [
        "import tensorflow as tf\n",
        "from tensorflow import keras\n",
        "from tensorflow.keras import layers\n",
        "from tensorflow.keras.utils import plot_model\n",
        "from IPython.display import Image"
      ],
      "execution_count": 50,
      "outputs": []
    },
    {
      "cell_type": "markdown",
      "metadata": {
        "id": "vfe3_8WJDQrk"
      },
      "source": [
        "### Sequential Model\n",
        "\n",
        "Sequential Model有兩種方法搭建，下面為分類問題範例：輸入為28x28 (拉平為784的一維向量)的影像，輸出為10 (分為十個類別)。\n",
        "\n",
        "**Ex1：**"
      ]
    },
    {
      "cell_type": "code",
      "metadata": {
        "id": "i_rYPQ8JDQrk"
      },
      "source": [
        "model = keras.Sequential(name='Sequential')\n",
        "model.add(layers.Dense(64, activation='relu', input_shape=(784,)))\n",
        "model.add(layers.Dense(64, activation='relu'))\n",
        "model.add(layers.Dense(10, activation='softmax'))"
      ],
      "execution_count": 51,
      "outputs": []
    },
    {
      "cell_type": "markdown",
      "metadata": {
        "id": "e1zGIKp_DQrk"
      },
      "source": [
        "**Ex2：**"
      ]
    },
    {
      "cell_type": "code",
      "metadata": {
        "id": "Zxy4rCkvDQrk"
      },
      "source": [
        "model = tf.keras.Sequential([layers.Dense(64, activation='relu', input_shape=(784,)),\n",
        "                             layers.Dense(64, activation='relu'), \n",
        "                             layers.Dense(10, activation='softmax')])"
      ],
      "execution_count": 52,
      "outputs": []
    },
    {
      "cell_type": "markdown",
      "metadata": {
        "id": "C5ysPuRzDQrk"
      },
      "source": [
        "顯示出剛剛搭建的網路"
      ]
    },
    {
      "cell_type": "code",
      "metadata": {
        "id": "4XH9-bXoDQrl",
        "colab": {
          "base_uri": "https://localhost:8080/",
          "height": 369
        },
        "outputId": "3a2e1b71-6a26-4328-f5e0-619458c5dded"
      },
      "source": [
        "# 產生網絡拓撲圖\n",
        "plot_model(model, to_file='Sequential_Model.png')\n",
        "\n",
        "# 秀出網絡拓撲圖\n",
        "Image('Sequential_Model.png')"
      ],
      "execution_count": 39,
      "outputs": [
        {
          "output_type": "execute_result",
          "data": {
            "image/png": "[encoded data removed]",
            "text/plain": [
              "<IPython.core.display.Image object>"
            ]
          },
          "metadata": {
            "tags": []
          },
          "execution_count": 39
        }
      ]
    },
    {
      "cell_type": "markdown",
      "metadata": {
        "id": "U3uYWcdSDQrl"
      },
      "source": [
        "### Functional API\n",
        "**1. Sample Network：**使用Functional API 一樣可以快速幾行代碼完成和上面Sequential Model 相同的架構。"
      ]
    },
    {
      "cell_type": "code",
      "metadata": {
        "id": "tJpxF_OeDQrl",
        "colab": {
          "base_uri": "https://localhost:8080/",
          "height": 369
        },
        "outputId": "d14d9184-377a-421e-f97c-9fad05cdf81b"
      },
      "source": [
        "inputs = keras.Input(shape=(784,), name='Input')\n",
        "hidden1 = layers.Dense(64, activation='relu', name='hidden1')(inputs)\n",
        "hidden2 = layers.Dense(64, activation='relu', name='hidden2')(hidden1)\n",
        "outputs = layers.Dense(10, activation='softmax', name='Output')(hidden2)\n",
        "\n",
        "model = keras.Model(inputs=inputs, outputs=outputs)\n",
        "\n",
        "# 產生網絡拓撲圖\n",
        "plot_model(model, to_file='Functional_API_Sample_Model.png')\n",
        "\n",
        "# 秀出網絡拓撲圖\n",
        "Image('Functional_API_Sample_Model.png')"
      ],
      "execution_count": 46,
      "outputs": [
        {
          "output_type": "execute_result",
          "data": {
            "image/png": "[encoded data removed]",
            "text/plain": [
              "<IPython.core.display.Image object>"
            ]
          },
          "metadata": {
            "tags": []
          },
          "execution_count": 46
        }
      ]
    },
    {
      "cell_type": "markdown",
      "metadata": {
        "id": "tTG5edhNDQrl"
      },
      "source": [
        "**Multi Input Model：**多輸入單輸出模型，下面的範例為商品價格預測，要預測商品價格，我們需要商品照片、品牌、使用狀況等等。而商品圖片和品牌我們可以經過不同層輸入並做不同的處理，網路架構如下。"
      ]
    },
    {
      "cell_type": "code",
      "metadata": {
        "id": "znIBldD9DQrm",
        "colab": {
          "base_uri": "https://localhost:8080/",
          "height": 661
        },
        "outputId": "b7e861a8-04bd-4335-b156-cdf8d598a0e7"
      },
      "source": [
        "img_input = keras.Input(shape=(28, 28, 1), name='Image_Input')\n",
        "info_input = keras.Input(shape=(1, ), name='Information_Input')\n",
        "\n",
        "hidden1_1 = layers.Conv2D(64, kernel_size=5, strides=2, activation='relu', name='hidden1_1')(img_input)\n",
        "hidden1_2 = layers.Conv2D(32, kernel_size=5, strides=2, activation='relu', name='hidden1_2')(hidden1_1)\n",
        "hidden1_2_ft= layers.Flatten()(hidden1_2)\n",
        "hidden1_3 = layers.Dense(64, activation='relu', name='hidden1_3')(info_input)\n",
        "concat = layers.Concatenate()([hidden1_2_ft, hidden1_3])\n",
        "hidden2 = layers.Dense(64, activation='relu', name='hidden2')(concat)\n",
        "outputs = layers.Dense(1, name='Output')(hidden2)\n",
        "\n",
        "model = keras.Model(inputs=[img_input, info_input], outputs=outputs)\n",
        "\n",
        "# 產生網絡拓撲圖\n",
        "plot_model(model, to_file='Functional_API_Multi_Input_Model.png')\n",
        "\n",
        "# 秀出網絡拓撲圖\n",
        "Image('Functional_API_Multi_Input_Model.png')"
      ],
      "execution_count": 47,
      "outputs": [
        {
          "output_type": "execute_result",
          "data": {
            "image/png": "[encoded data removed]",
            "text/plain": [
              "<IPython.core.display.Image object>"
            ]
          },
          "metadata": {
            "tags": []
          },
          "execution_count": 47
        }
      ]
    },
    {
      "cell_type": "markdown",
      "metadata": {
        "id": "s2mcSyZfDQrm"
      },
      "source": [
        "**Multi Output Network：**單輸入多輸出模型，這種類型的架構在影響處理的領域很長看到，下面舉幾個常見多輸出模型應用例子。\n",
        "\n",
        "- 物件偵測：輸入一張圖像，預測物件位置與物件類別等。\n",
        "- 人像識別：輸入一張圖像，預測圖片中人的性別、年齡等。"
      ]
    },
    {
      "cell_type": "code",
      "metadata": {
        "id": "Jh2gPTbKDQrm",
        "colab": {
          "base_uri": "https://localhost:8080/",
          "height": 564
        },
        "outputId": "988a41ce-3c80-4f4f-d87b-229b0bbcd0a0"
      },
      "source": [
        "inputs = keras.Input(shape=(28, 28, 1), name='Input')\n",
        "\n",
        "hidden1 = layers.Conv2D(64, kernel_size=3, activation='relu', name='hidden1')(inputs)\n",
        "hidden2 = layers.Conv2D(64, kernel_size=3, strides=2, activation='relu', name='hidden2')(hidden1)\n",
        "hidden3 = layers.Conv2D(64, kernel_size=3, strides=2, activation='relu', name='hidden3')(hidden2)\n",
        "flatten = layers.Flatten()(hidden3)\n",
        "\n",
        "age_output = layers.Dense(1, name='Age_Output')(flatten)\n",
        "gender_output = layers.Dense(1, name='Gender_Output')(flatten)\n",
        "\n",
        "model = keras.Model(inputs=inputs, outputs=[age_output, gender_output])\n",
        "\n",
        "# 產生網絡拓撲圖\n",
        "plot_model(model, to_file='Functional_API_Multi_Output_Model.png')\n",
        "\n",
        "# 秀出網絡拓撲圖\n",
        "Image('Functional_API_Multi_Output_Model.png')"
      ],
      "execution_count": 48,
      "outputs": [
        {
          "output_type": "execute_result",
          "data": {
            "image/png": "[encoded data removed]",
            "text/plain": [
              "<IPython.core.display.Image object>"
            ]
          },
          "metadata": {
            "tags": []
          },
          "execution_count": 48
        }
      ]
    },
    {
      "cell_type": "markdown",
      "metadata": {
        "id": "-KNczVZeDQrm"
      },
      "source": [
        "**Multi Input and Multi Output Network：**多輸入多輸出模型，例如天氣預測，輸入可能為當前的天氣資訊和衛星雲圖，而輸出就是降雨機率、溫度和濕度等。"
      ]
    },
    {
      "cell_type": "code",
      "metadata": {
        "id": "DMW4ynwsDQrm",
        "colab": {
          "base_uri": "https://localhost:8080/",
          "height": 661
        },
        "outputId": "59919025-4dd6-4316-f2cd-fa848054c549"
      },
      "source": [
        "image_inputs = keras.Input(shape=(28, 28, 1), name='Image_Input')\n",
        "hidden1 = layers.Conv2D(64, kernel_size=3, activation='relu', name='hidden1')(image_inputs)\n",
        "hidden2 = layers.Conv2D(64, kernel_size=3, strides=2, activation='relu', name='hidden2')(hidden1)\n",
        "hidden3 = layers.Conv2D(64, kernel_size=3, strides=2, activation='relu', name='hidden3')(hidden2)\n",
        "flatten = layers.Flatten()(hidden3)\n",
        "\n",
        "info_inputs = keras.Input(shape=(10, ), name='Info_Input')\n",
        "hidden4 = layers.Dense(64)(info_inputs)\n",
        "\n",
        "concat = layers.Concatenate()([flatten, hidden4])\n",
        "\n",
        "weather_outputs = layers.Dense(1, name='Output1')(concat)\n",
        "temp_outputs = layers.Dense(1, name='Output2')(concat)\n",
        "humidity_outputs = layers.Dense(1, name='Output3')(concat)\n",
        "\n",
        "model = keras.Model(inputs=[image_inputs, info_inputs], \n",
        "                    outputs=[weather_outputs, temp_outputs, humidity_outputs])\n",
        "\n",
        "# 產生網絡拓撲圖\n",
        "plot_model(model, to_file='Functional_API_Multi_Input_Multi_Output_Model.png')\n",
        "\n",
        "# 秀出網絡拓撲圖\n",
        "Image('Functional_API_Multi_Input_Multi_Output_Model.png')"
      ],
      "execution_count": 49,
      "outputs": [
        {
          "output_type": "execute_result",
          "data": {
            "image/png": "[encoded data removed]",
            "text/plain": [
              "<IPython.core.display.Image object>"
            ]
          },
          "metadata": {
            "tags": []
          },
          "execution_count": 49
        }
      ]
    },
    {
      "cell_type": "markdown",
      "metadata": {
        "id": "WjgbHlmIDQrn"
      },
      "source": [
        "---\n",
        "## tf.data"
      ]
    },
    {
      "cell_type": "markdown",
      "metadata": {
        "id": "5FfgSMCQDQrn"
      },
      "source": [
        "### 基本操作"
      ]
    },
    {
      "cell_type": "markdown",
      "metadata": {
        "id": "ce0l37XiDQro"
      },
      "source": [
        "1.`tf.data.Dataset.from_tensors`"
      ]
    },
    {
      "cell_type": "code",
      "metadata": {
        "id": "wo2AyWDEDQro",
        "colab": {
          "base_uri": "https://localhost:8080/"
        },
        "outputId": "cc36c18f-740f-4eeb-a803-6d9838f5fbca"
      },
      "source": [
        "dataset = tf.data.Dataset.from_tensors(tf.constant([1, 2, 3, 4, 5, 6, 7, 8, 9, 10], shape=(10, )))\n",
        "print(dataset)"
      ],
      "execution_count": 19,
      "outputs": [
        {
          "output_type": "stream",
          "text": [
            "<TensorDataset shapes: (10,), types: tf.int32>\n"
          ],
          "name": "stdout"
        }
      ]
    },
    {
      "cell_type": "markdown",
      "metadata": {
        "id": "x3p6klxLDQro"
      },
      "source": [
        "2.`tf.data.Dataset.from_tensor_slices`"
      ]
    },
    {
      "cell_type": "code",
      "metadata": {
        "id": "7Hll1t7MDQro",
        "colab": {
          "base_uri": "https://localhost:8080/"
        },
        "outputId": "37ffeec8-bee0-4761-ed2e-9529d773271c"
      },
      "source": [
        "x_data = tf.data.Dataset.from_tensor_slices(tf.constant([0, 1, 2, 3, 4, 5, 6, 7, 8, 9], shape=(10, )))\n",
        "print(x_data)\n",
        "\n",
        "y_data = tf.data.Dataset.from_tensor_slices(tf.constant([0, 2, 4, 6, 8, 10, 12, 14, 16, 18], shape=(10, )))\n",
        "print(y_data)"
      ],
      "execution_count": 20,
      "outputs": [
        {
          "output_type": "stream",
          "text": [
            "<TensorSliceDataset shapes: (), types: tf.int32>\n",
            "<TensorSliceDataset shapes: (), types: tf.int32>\n"
          ],
          "name": "stdout"
        }
      ]
    },
    {
      "cell_type": "markdown",
      "metadata": {
        "id": "ayH_PKe3DQrp"
      },
      "source": [
        "3.`for loop`讀取數據："
      ]
    },
    {
      "cell_type": "code",
      "metadata": {
        "id": "lt-TOdeNDQrp",
        "colab": {
          "base_uri": "https://localhost:8080/"
        },
        "outputId": "7588e3c0-3634-4092-b0a8-4429976ac855"
      },
      "source": [
        "for data in dataset:\n",
        "    print(data)"
      ],
      "execution_count": 21,
      "outputs": [
        {
          "output_type": "stream",
          "text": [
            "tf.Tensor([ 1  2  3  4  5  6  7  8  9 10], shape=(10,), dtype=int32)\n"
          ],
          "name": "stdout"
        }
      ]
    },
    {
      "cell_type": "code",
      "metadata": {
        "id": "fWua4UIgDQrp",
        "colab": {
          "base_uri": "https://localhost:8080/"
        },
        "outputId": "1c9b8f8c-e964-44e7-f3f9-bff7a905e135"
      },
      "source": [
        "for data1, data2 in zip(x_data, y_data):\n",
        "    print('x: {}, y: {}'.format(data1, data2))"
      ],
      "execution_count": 22,
      "outputs": [
        {
          "output_type": "stream",
          "text": [
            "x: 0, y: 0\n",
            "x: 1, y: 2\n",
            "x: 2, y: 4\n",
            "x: 3, y: 6\n",
            "x: 4, y: 8\n",
            "x: 5, y: 10\n",
            "x: 6, y: 12\n",
            "x: 7, y: 14\n",
            "x: 8, y: 16\n",
            "x: 9, y: 18\n"
          ],
          "name": "stdout"
        }
      ]
    },
    {
      "cell_type": "markdown",
      "metadata": {
        "id": "yEbEWnkdDQrp"
      },
      "source": [
        "3.`take`：讀取資料"
      ]
    },
    {
      "cell_type": "code",
      "metadata": {
        "id": "UvfNWhyWDQrp",
        "colab": {
          "base_uri": "https://localhost:8080/"
        },
        "outputId": "ca342c4e-d60e-4855-fea2-cbc3afa8f6c8"
      },
      "source": [
        "for data in dataset:\n",
        "    print(data)"
      ],
      "execution_count": 23,
      "outputs": [
        {
          "output_type": "stream",
          "text": [
            "tf.Tensor([ 1  2  3  4  5  6  7  8  9 10], shape=(10,), dtype=int32)\n"
          ],
          "name": "stdout"
        }
      ]
    },
    {
      "cell_type": "code",
      "metadata": {
        "id": "wCZwlfahDQrq",
        "colab": {
          "base_uri": "https://localhost:8080/"
        },
        "outputId": "d6722df1-6b55-40a7-c403-f1ddccbe23b4"
      },
      "source": [
        "for data1, data2 in zip(x_data.take(5), y_data.take(5)):\n",
        "    print('x: {}, y: {}'.format(data1, data2))"
      ],
      "execution_count": 24,
      "outputs": [
        {
          "output_type": "stream",
          "text": [
            "x: 0, y: 0\n",
            "x: 1, y: 2\n",
            "x: 2, y: 4\n",
            "x: 3, y: 6\n",
            "x: 4, y: 8\n"
          ],
          "name": "stdout"
        }
      ]
    },
    {
      "cell_type": "code",
      "metadata": {
        "id": "iUUSrUX1DQrq",
        "colab": {
          "base_uri": "https://localhost:8080/"
        },
        "outputId": "24754f50-f786-4f45-d661-e1a303f40676"
      },
      "source": [
        "for data1, data2 in zip(x_data.take(12), y_data.take(12)):\n",
        "    print('x: {}, y: {}'.format(data1, data2))"
      ],
      "execution_count": 25,
      "outputs": [
        {
          "output_type": "stream",
          "text": [
            "x: 0, y: 0\n",
            "x: 1, y: 2\n",
            "x: 2, y: 4\n",
            "x: 3, y: 6\n",
            "x: 4, y: 8\n",
            "x: 5, y: 10\n",
            "x: 6, y: 12\n",
            "x: 7, y: 14\n",
            "x: 8, y: 16\n",
            "x: 9, y: 18\n"
          ],
          "name": "stdout"
        }
      ]
    },
    {
      "cell_type": "markdown",
      "metadata": {
        "id": "ZiWvYBiVDQrq"
      },
      "source": [
        "5.`tf.data.Dataset.zip`"
      ]
    },
    {
      "cell_type": "code",
      "metadata": {
        "id": "ZrLgow_LDQrq",
        "colab": {
          "base_uri": "https://localhost:8080/"
        },
        "outputId": "f6efb943-4f10-402f-ec55-f67b0464f1e0"
      },
      "source": [
        "dataset = tf.data.Dataset.zip((x_data, y_data))\n",
        "print(dataset)"
      ],
      "execution_count": 26,
      "outputs": [
        {
          "output_type": "stream",
          "text": [
            "<ZipDataset shapes: ((), ()), types: (tf.int32, tf.int32)>\n"
          ],
          "name": "stdout"
        }
      ]
    },
    {
      "cell_type": "markdown",
      "metadata": {
        "id": "TFRTYooADQrq"
      },
      "source": [
        "6.`map`：可以使用map來轉換數據"
      ]
    },
    {
      "cell_type": "code",
      "metadata": {
        "id": "9GE8VKWBDQrr",
        "colab": {
          "base_uri": "https://localhost:8080/"
        },
        "outputId": "9c808c01-3c4b-41a6-aff7-1091260efdd6"
      },
      "source": [
        "tf.data.Dataset.range(10).map(lambda x: x*2)"
      ],
      "execution_count": 27,
      "outputs": [
        {
          "output_type": "execute_result",
          "data": {
            "text/plain": [
              "<MapDataset shapes: (), types: tf.int64>"
            ]
          },
          "metadata": {
            "tags": []
          },
          "execution_count": 27
        }
      ]
    },
    {
      "cell_type": "markdown",
      "metadata": {
        "id": "7QBlMlq_DQrr"
      },
      "source": [
        "7.命名：可以字典方式為elements的組件命名"
      ]
    },
    {
      "cell_type": "code",
      "metadata": {
        "id": "LqFZ7gyEDQrr",
        "colab": {
          "base_uri": "https://localhost:8080/"
        },
        "outputId": "b2e1f77f-2e02-4255-dd51-2e1b2d205fc8"
      },
      "source": [
        "x = tf.data.Dataset.range(10)\n",
        "y = tf.data.Dataset.range(10).map(lambda x: x*2)\n",
        "\n",
        "dataset = tf.data.Dataset.zip({\"x\": x, \"y\": y})\n",
        "print(dataset)"
      ],
      "execution_count": 28,
      "outputs": [
        {
          "output_type": "stream",
          "text": [
            "<ZipDataset shapes: {x: (), y: ()}, types: {x: tf.int64, y: tf.int64}>\n"
          ],
          "name": "stdout"
        }
      ]
    },
    {
      "cell_type": "code",
      "metadata": {
        "id": "L-lyGwWODQrr",
        "colab": {
          "base_uri": "https://localhost:8080/"
        },
        "outputId": "d90ae1c0-4f28-4443-937e-7df90ad2cd0d"
      },
      "source": [
        "for data in dataset.take(10):\n",
        "    print('x: {}, y: {}'.format(data['x'], data['y']))"
      ],
      "execution_count": 29,
      "outputs": [
        {
          "output_type": "stream",
          "text": [
            "x: 0, y: 0\n",
            "x: 1, y: 2\n",
            "x: 2, y: 4\n",
            "x: 3, y: 6\n",
            "x: 4, y: 8\n",
            "x: 5, y: 10\n",
            "x: 6, y: 12\n",
            "x: 7, y: 14\n",
            "x: 8, y: 16\n",
            "x: 9, y: 18\n"
          ],
          "name": "stdout"
        }
      ]
    },
    {
      "cell_type": "markdown",
      "metadata": {
        "id": "Ozc932PSDQrr"
      },
      "source": [
        "8.設定每batch讀取的數量"
      ]
    },
    {
      "cell_type": "code",
      "metadata": {
        "id": "pIAUfStCDQrr",
        "colab": {
          "base_uri": "https://localhost:8080/"
        },
        "outputId": "a07b7a42-b0f4-4bd7-bd52-a5bd0181ab94"
      },
      "source": [
        "dataset = tf.data.Dataset.zip({\"x\": x, \"y\": y}).batch(2)\n",
        "\n",
        "for data in dataset.take(5):\n",
        "    print('x: {}, y: {}'.format(data['x'], data['y']))"
      ],
      "execution_count": 30,
      "outputs": [
        {
          "output_type": "stream",
          "text": [
            "x: [0 1], y: [0 2]\n",
            "x: [2 3], y: [4 6]\n",
            "x: [4 5], y: [ 8 10]\n",
            "x: [6 7], y: [12 14]\n",
            "x: [8 9], y: [16 18]\n"
          ],
          "name": "stdout"
        }
      ]
    },
    {
      "cell_type": "markdown",
      "metadata": {
        "id": "EJS_86c2DQrs"
      },
      "source": [
        "9.`shuffle`：dataset資料 會被載入buffer中，並從buffer中隨機選取資料出來，取出資料產生的空位會從新的數據替補。而`buffer_size`是設定buffer大小，最好的設定是**大於**或**等於**整個dataset資料個個數。"
      ]
    },
    {
      "cell_type": "code",
      "metadata": {
        "id": "UEneLps5DQrs",
        "colab": {
          "base_uri": "https://localhost:8080/"
        },
        "outputId": "4eea2d10-a61a-4d53-8573-192117b60b1d"
      },
      "source": [
        "dataset = dataset.shuffle(10)\n",
        "for data in dataset.take(5):\n",
        "    print('x: {}, y: {}'.format(data['x'], data['y']))"
      ],
      "execution_count": 31,
      "outputs": [
        {
          "output_type": "stream",
          "text": [
            "x: [2 3], y: [4 6]\n",
            "x: [4 5], y: [ 8 10]\n",
            "x: [0 1], y: [0 2]\n",
            "x: [8 9], y: [16 18]\n",
            "x: [6 7], y: [12 14]\n"
          ],
          "name": "stdout"
        }
      ]
    },
    {
      "cell_type": "markdown",
      "metadata": {
        "id": "g9oJQBZNDQrs"
      },
      "source": [
        "10.`repeat`：當dataset的資料讀取完後就讀會取不到資料，透過設定`repeat(n)`可以重複讀取dataset n次。"
      ]
    },
    {
      "cell_type": "code",
      "metadata": {
        "id": "W7AaXHPLDQrs",
        "colab": {
          "base_uri": "https://localhost:8080/"
        },
        "outputId": "20a0588b-e14e-44a1-80e2-773b6955a079"
      },
      "source": [
        "for data in dataset.take(10):\n",
        "    print('x: {}, y: {}'.format(data['x'], data['y']))\n",
        "\n",
        "    \n",
        "print('-' * 50)\n",
        "dataset = dataset.repeat(2)\n",
        "for data in dataset.take(10):\n",
        "    print('x: {}, y: {}'.format(data['x'], data['y']))"
      ],
      "execution_count": 32,
      "outputs": [
        {
          "output_type": "stream",
          "text": [
            "x: [6 7], y: [12 14]\n",
            "x: [4 5], y: [ 8 10]\n",
            "x: [0 1], y: [0 2]\n",
            "x: [8 9], y: [16 18]\n",
            "x: [2 3], y: [4 6]\n",
            "--------------------------------------------------\n",
            "x: [0 1], y: [0 2]\n",
            "x: [8 9], y: [16 18]\n",
            "x: [6 7], y: [12 14]\n",
            "x: [2 3], y: [4 6]\n",
            "x: [4 5], y: [ 8 10]\n",
            "x: [6 7], y: [12 14]\n",
            "x: [2 3], y: [4 6]\n",
            "x: [4 5], y: [ 8 10]\n",
            "x: [8 9], y: [16 18]\n",
            "x: [0 1], y: [0 2]\n"
          ],
          "name": "stdout"
        }
      ]
    }
  ]
}